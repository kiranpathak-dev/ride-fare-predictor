{
 "cells": [
  {
   "cell_type": "markdown",
   "id": "ee2b957a",
   "metadata": {
    "papermill": {
     "duration": 0.006708,
     "end_time": "2023-08-29T17:46:04.969905",
     "exception": false,
     "start_time": "2023-08-29T17:46:04.963197",
     "status": "completed"
    },
    "tags": []
   },
   "source": [
    "#  Statistical Analysis : \n",
    "# Is there a relationship between total fare amount and payment type?\n",
    "\n",
    "**The purpose** of this project is to prepare, create, and analyze A/B tests. It's results should aim to find ways to generate more revenue for taxi cab drivers.\n",
    "\n",
    "**Note:** For the purpose of this exercise, assume that the sample data comes from an experiment in which customers are randomly selected and divided into two groups:\n",
    "1) customers who are required to pay with credit card, \n",
    "\n",
    "2) customers who are required to pay with cash. \n",
    "\n",
    "Without this assumption, we cannot draw causal conclusions about how payment method affects fare amount.\n",
    "\n",
    "**The goal** is to apply descriptive statistics and hypothesis testing in Python. The goal for this A/B test is to sample data and analyze whether there is a relationship between payment type and fare amount. \n",
    "For example: discover if customers who use credit cards pay higher fare amounts than customers who use cash.\n",
    "  "
   ]
  },
  {
   "cell_type": "markdown",
   "id": "fc9af27e",
   "metadata": {
    "papermill": {
     "duration": 0.005562,
     "end_time": "2023-08-29T17:46:04.981734",
     "exception": false,
     "start_time": "2023-08-29T17:46:04.976172",
     "status": "completed"
    },
    "tags": []
   },
   "source": [
    "# Conduct an A/B test"
   ]
  },
  {
   "cell_type": "markdown",
   "id": "ce400974",
   "metadata": {
    "papermill": {
     "duration": 0.005794,
     "end_time": "2023-08-29T17:46:04.993445",
     "exception": false,
     "start_time": "2023-08-29T17:46:04.987651",
     "status": "completed"
    },
    "tags": []
   },
   "source": [
    "### Imports and data loading"
   ]
  },
  {
   "cell_type": "code",
   "execution_count": 1,
   "id": "3525469c",
   "metadata": {
    "execution": {
     "iopub.execute_input": "2023-08-29T17:46:05.008541Z",
     "iopub.status.busy": "2023-08-29T17:46:05.007982Z",
     "iopub.status.idle": "2023-08-29T17:46:06.202042Z",
     "shell.execute_reply": "2023-08-29T17:46:06.200463Z"
    },
    "papermill": {
     "duration": 1.206493,
     "end_time": "2023-08-29T17:46:06.205869",
     "exception": false,
     "start_time": "2023-08-29T17:46:04.999376",
     "status": "completed"
    },
    "tags": []
   },
   "outputs": [
    {
     "name": "stderr",
     "output_type": "stream",
     "text": [
      "/opt/conda/lib/python3.10/site-packages/scipy/__init__.py:146: UserWarning: A NumPy version >=1.16.5 and <1.23.0 is required for this version of SciPy (detected version 1.23.5\n",
      "  warnings.warn(f\"A NumPy version >={np_minversion} and <{np_maxversion}\"\n"
     ]
    }
   ],
   "source": [
    "import pandas as pd\n",
    "from scipy import stats"
   ]
  },
  {
   "cell_type": "code",
   "execution_count": 2,
   "id": "2b5e7e29",
   "metadata": {
    "_cell_guid": "b1076dfc-b9ad-4769-8c92-a6c4dae69d19",
    "_uuid": "8f2839f25d086af736a60e9eeb907d3b93b6e0e5",
    "execution": {
     "iopub.execute_input": "2023-08-29T17:46:06.220776Z",
     "iopub.status.busy": "2023-08-29T17:46:06.220191Z",
     "iopub.status.idle": "2023-08-29T17:46:06.410216Z",
     "shell.execute_reply": "2023-08-29T17:46:06.408586Z"
    },
    "papermill": {
     "duration": 0.201455,
     "end_time": "2023-08-29T17:46:06.413679",
     "exception": false,
     "start_time": "2023-08-29T17:46:06.212224",
     "status": "completed"
    },
    "tags": []
   },
   "outputs": [],
   "source": [
    "df = pd.read_csv(\"/kaggle/input/dataset/2017_Yellow_Taxi_Trip_Data.csv\", index_col = 0)"
   ]
  },
  {
   "cell_type": "markdown",
   "id": "66554cb2",
   "metadata": {
    "papermill": {
     "duration": 0.00612,
     "end_time": "2023-08-29T17:46:06.426279",
     "exception": false,
     "start_time": "2023-08-29T17:46:06.420159",
     "status": "completed"
    },
    "tags": []
   },
   "source": [
    "# Data exploration\n",
    "\n",
    "Use descriptive statistics to conduct Exploratory Data Analysis (EDA)."
   ]
  },
  {
   "cell_type": "markdown",
   "id": "d89cf6cf",
   "metadata": {
    "papermill": {
     "duration": 0.006805,
     "end_time": "2023-08-29T17:46:06.440188",
     "exception": false,
     "start_time": "2023-08-29T17:46:06.433383",
     "status": "completed"
    },
    "tags": []
   },
   "source": [
    "**Note:** In the dataset, `payment_type` is encoded in integers:\n",
    "*   1: Credit card\n",
    "*   2: Cash\n",
    "*   3: No charge\n",
    "*   4: Dispute\n",
    "*   5: Unknown"
   ]
  },
  {
   "cell_type": "code",
   "execution_count": 3,
   "id": "e64ded23",
   "metadata": {
    "_kg_hide-output": true,
    "collapsed": true,
    "execution": {
     "iopub.execute_input": "2023-08-29T17:46:06.455086Z",
     "iopub.status.busy": "2023-08-29T17:46:06.454605Z",
     "iopub.status.idle": "2023-08-29T17:46:06.602744Z",
     "shell.execute_reply": "2023-08-29T17:46:06.601436Z"
    },
    "jupyter": {
     "outputs_hidden": true
    },
    "papermill": {
     "duration": 0.159245,
     "end_time": "2023-08-29T17:46:06.605841",
     "exception": false,
     "start_time": "2023-08-29T17:46:06.446596",
     "status": "completed"
    },
    "tags": []
   },
   "outputs": [
    {
     "data": {
      "text/html": [
       "<div>\n",
       "<style scoped>\n",
       "    .dataframe tbody tr th:only-of-type {\n",
       "        vertical-align: middle;\n",
       "    }\n",
       "\n",
       "    .dataframe tbody tr th {\n",
       "        vertical-align: top;\n",
       "    }\n",
       "\n",
       "    .dataframe thead th {\n",
       "        text-align: right;\n",
       "    }\n",
       "</style>\n",
       "<table border=\"1\" class=\"dataframe\">\n",
       "  <thead>\n",
       "    <tr style=\"text-align: right;\">\n",
       "      <th></th>\n",
       "      <th>VendorID</th>\n",
       "      <th>tpep_pickup_datetime</th>\n",
       "      <th>tpep_dropoff_datetime</th>\n",
       "      <th>passenger_count</th>\n",
       "      <th>trip_distance</th>\n",
       "      <th>RatecodeID</th>\n",
       "      <th>store_and_fwd_flag</th>\n",
       "      <th>PULocationID</th>\n",
       "      <th>DOLocationID</th>\n",
       "      <th>payment_type</th>\n",
       "      <th>fare_amount</th>\n",
       "      <th>extra</th>\n",
       "      <th>mta_tax</th>\n",
       "      <th>tip_amount</th>\n",
       "      <th>tolls_amount</th>\n",
       "      <th>improvement_surcharge</th>\n",
       "      <th>total_amount</th>\n",
       "    </tr>\n",
       "  </thead>\n",
       "  <tbody>\n",
       "    <tr>\n",
       "      <th>count</th>\n",
       "      <td>22699.000000</td>\n",
       "      <td>22699</td>\n",
       "      <td>22699</td>\n",
       "      <td>22699.000000</td>\n",
       "      <td>22699.000000</td>\n",
       "      <td>22699.000000</td>\n",
       "      <td>22699</td>\n",
       "      <td>22699.000000</td>\n",
       "      <td>22699.000000</td>\n",
       "      <td>22699.000000</td>\n",
       "      <td>22699.000000</td>\n",
       "      <td>22699.000000</td>\n",
       "      <td>22699.000000</td>\n",
       "      <td>22699.000000</td>\n",
       "      <td>22699.000000</td>\n",
       "      <td>22699.000000</td>\n",
       "      <td>22699.000000</td>\n",
       "    </tr>\n",
       "    <tr>\n",
       "      <th>unique</th>\n",
       "      <td>NaN</td>\n",
       "      <td>22687</td>\n",
       "      <td>22688</td>\n",
       "      <td>NaN</td>\n",
       "      <td>NaN</td>\n",
       "      <td>NaN</td>\n",
       "      <td>2</td>\n",
       "      <td>NaN</td>\n",
       "      <td>NaN</td>\n",
       "      <td>NaN</td>\n",
       "      <td>NaN</td>\n",
       "      <td>NaN</td>\n",
       "      <td>NaN</td>\n",
       "      <td>NaN</td>\n",
       "      <td>NaN</td>\n",
       "      <td>NaN</td>\n",
       "      <td>NaN</td>\n",
       "    </tr>\n",
       "    <tr>\n",
       "      <th>top</th>\n",
       "      <td>NaN</td>\n",
       "      <td>07/03/2017 3:45:19 PM</td>\n",
       "      <td>10/18/2017 8:07:45 PM</td>\n",
       "      <td>NaN</td>\n",
       "      <td>NaN</td>\n",
       "      <td>NaN</td>\n",
       "      <td>N</td>\n",
       "      <td>NaN</td>\n",
       "      <td>NaN</td>\n",
       "      <td>NaN</td>\n",
       "      <td>NaN</td>\n",
       "      <td>NaN</td>\n",
       "      <td>NaN</td>\n",
       "      <td>NaN</td>\n",
       "      <td>NaN</td>\n",
       "      <td>NaN</td>\n",
       "      <td>NaN</td>\n",
       "    </tr>\n",
       "    <tr>\n",
       "      <th>freq</th>\n",
       "      <td>NaN</td>\n",
       "      <td>2</td>\n",
       "      <td>2</td>\n",
       "      <td>NaN</td>\n",
       "      <td>NaN</td>\n",
       "      <td>NaN</td>\n",
       "      <td>22600</td>\n",
       "      <td>NaN</td>\n",
       "      <td>NaN</td>\n",
       "      <td>NaN</td>\n",
       "      <td>NaN</td>\n",
       "      <td>NaN</td>\n",
       "      <td>NaN</td>\n",
       "      <td>NaN</td>\n",
       "      <td>NaN</td>\n",
       "      <td>NaN</td>\n",
       "      <td>NaN</td>\n",
       "    </tr>\n",
       "    <tr>\n",
       "      <th>mean</th>\n",
       "      <td>1.556236</td>\n",
       "      <td>NaN</td>\n",
       "      <td>NaN</td>\n",
       "      <td>1.642319</td>\n",
       "      <td>2.913313</td>\n",
       "      <td>1.043394</td>\n",
       "      <td>NaN</td>\n",
       "      <td>162.412353</td>\n",
       "      <td>161.527997</td>\n",
       "      <td>1.336887</td>\n",
       "      <td>13.026629</td>\n",
       "      <td>0.333275</td>\n",
       "      <td>0.497445</td>\n",
       "      <td>1.835781</td>\n",
       "      <td>0.312542</td>\n",
       "      <td>0.299551</td>\n",
       "      <td>16.310502</td>\n",
       "    </tr>\n",
       "    <tr>\n",
       "      <th>std</th>\n",
       "      <td>0.496838</td>\n",
       "      <td>NaN</td>\n",
       "      <td>NaN</td>\n",
       "      <td>1.285231</td>\n",
       "      <td>3.653171</td>\n",
       "      <td>0.708391</td>\n",
       "      <td>NaN</td>\n",
       "      <td>66.633373</td>\n",
       "      <td>70.139691</td>\n",
       "      <td>0.496211</td>\n",
       "      <td>13.243791</td>\n",
       "      <td>0.463097</td>\n",
       "      <td>0.039465</td>\n",
       "      <td>2.800626</td>\n",
       "      <td>1.399212</td>\n",
       "      <td>0.015673</td>\n",
       "      <td>16.097295</td>\n",
       "    </tr>\n",
       "    <tr>\n",
       "      <th>min</th>\n",
       "      <td>1.000000</td>\n",
       "      <td>NaN</td>\n",
       "      <td>NaN</td>\n",
       "      <td>0.000000</td>\n",
       "      <td>0.000000</td>\n",
       "      <td>1.000000</td>\n",
       "      <td>NaN</td>\n",
       "      <td>1.000000</td>\n",
       "      <td>1.000000</td>\n",
       "      <td>1.000000</td>\n",
       "      <td>-120.000000</td>\n",
       "      <td>-1.000000</td>\n",
       "      <td>-0.500000</td>\n",
       "      <td>0.000000</td>\n",
       "      <td>0.000000</td>\n",
       "      <td>-0.300000</td>\n",
       "      <td>-120.300000</td>\n",
       "    </tr>\n",
       "    <tr>\n",
       "      <th>25%</th>\n",
       "      <td>1.000000</td>\n",
       "      <td>NaN</td>\n",
       "      <td>NaN</td>\n",
       "      <td>1.000000</td>\n",
       "      <td>0.990000</td>\n",
       "      <td>1.000000</td>\n",
       "      <td>NaN</td>\n",
       "      <td>114.000000</td>\n",
       "      <td>112.000000</td>\n",
       "      <td>1.000000</td>\n",
       "      <td>6.500000</td>\n",
       "      <td>0.000000</td>\n",
       "      <td>0.500000</td>\n",
       "      <td>0.000000</td>\n",
       "      <td>0.000000</td>\n",
       "      <td>0.300000</td>\n",
       "      <td>8.750000</td>\n",
       "    </tr>\n",
       "    <tr>\n",
       "      <th>50%</th>\n",
       "      <td>2.000000</td>\n",
       "      <td>NaN</td>\n",
       "      <td>NaN</td>\n",
       "      <td>1.000000</td>\n",
       "      <td>1.610000</td>\n",
       "      <td>1.000000</td>\n",
       "      <td>NaN</td>\n",
       "      <td>162.000000</td>\n",
       "      <td>162.000000</td>\n",
       "      <td>1.000000</td>\n",
       "      <td>9.500000</td>\n",
       "      <td>0.000000</td>\n",
       "      <td>0.500000</td>\n",
       "      <td>1.350000</td>\n",
       "      <td>0.000000</td>\n",
       "      <td>0.300000</td>\n",
       "      <td>11.800000</td>\n",
       "    </tr>\n",
       "    <tr>\n",
       "      <th>75%</th>\n",
       "      <td>2.000000</td>\n",
       "      <td>NaN</td>\n",
       "      <td>NaN</td>\n",
       "      <td>2.000000</td>\n",
       "      <td>3.060000</td>\n",
       "      <td>1.000000</td>\n",
       "      <td>NaN</td>\n",
       "      <td>233.000000</td>\n",
       "      <td>233.000000</td>\n",
       "      <td>2.000000</td>\n",
       "      <td>14.500000</td>\n",
       "      <td>0.500000</td>\n",
       "      <td>0.500000</td>\n",
       "      <td>2.450000</td>\n",
       "      <td>0.000000</td>\n",
       "      <td>0.300000</td>\n",
       "      <td>17.800000</td>\n",
       "    </tr>\n",
       "    <tr>\n",
       "      <th>max</th>\n",
       "      <td>2.000000</td>\n",
       "      <td>NaN</td>\n",
       "      <td>NaN</td>\n",
       "      <td>6.000000</td>\n",
       "      <td>33.960000</td>\n",
       "      <td>99.000000</td>\n",
       "      <td>NaN</td>\n",
       "      <td>265.000000</td>\n",
       "      <td>265.000000</td>\n",
       "      <td>4.000000</td>\n",
       "      <td>999.990000</td>\n",
       "      <td>4.500000</td>\n",
       "      <td>0.500000</td>\n",
       "      <td>200.000000</td>\n",
       "      <td>19.100000</td>\n",
       "      <td>0.300000</td>\n",
       "      <td>1200.290000</td>\n",
       "    </tr>\n",
       "  </tbody>\n",
       "</table>\n",
       "</div>"
      ],
      "text/plain": [
       "            VendorID   tpep_pickup_datetime  tpep_dropoff_datetime  \\\n",
       "count   22699.000000                  22699                  22699   \n",
       "unique           NaN                  22687                  22688   \n",
       "top              NaN  07/03/2017 3:45:19 PM  10/18/2017 8:07:45 PM   \n",
       "freq             NaN                      2                      2   \n",
       "mean        1.556236                    NaN                    NaN   \n",
       "std         0.496838                    NaN                    NaN   \n",
       "min         1.000000                    NaN                    NaN   \n",
       "25%         1.000000                    NaN                    NaN   \n",
       "50%         2.000000                    NaN                    NaN   \n",
       "75%         2.000000                    NaN                    NaN   \n",
       "max         2.000000                    NaN                    NaN   \n",
       "\n",
       "        passenger_count  trip_distance    RatecodeID store_and_fwd_flag  \\\n",
       "count      22699.000000   22699.000000  22699.000000              22699   \n",
       "unique              NaN            NaN           NaN                  2   \n",
       "top                 NaN            NaN           NaN                  N   \n",
       "freq                NaN            NaN           NaN              22600   \n",
       "mean           1.642319       2.913313      1.043394                NaN   \n",
       "std            1.285231       3.653171      0.708391                NaN   \n",
       "min            0.000000       0.000000      1.000000                NaN   \n",
       "25%            1.000000       0.990000      1.000000                NaN   \n",
       "50%            1.000000       1.610000      1.000000                NaN   \n",
       "75%            2.000000       3.060000      1.000000                NaN   \n",
       "max            6.000000      33.960000     99.000000                NaN   \n",
       "\n",
       "        PULocationID  DOLocationID  payment_type   fare_amount         extra  \\\n",
       "count   22699.000000  22699.000000  22699.000000  22699.000000  22699.000000   \n",
       "unique           NaN           NaN           NaN           NaN           NaN   \n",
       "top              NaN           NaN           NaN           NaN           NaN   \n",
       "freq             NaN           NaN           NaN           NaN           NaN   \n",
       "mean      162.412353    161.527997      1.336887     13.026629      0.333275   \n",
       "std        66.633373     70.139691      0.496211     13.243791      0.463097   \n",
       "min         1.000000      1.000000      1.000000   -120.000000     -1.000000   \n",
       "25%       114.000000    112.000000      1.000000      6.500000      0.000000   \n",
       "50%       162.000000    162.000000      1.000000      9.500000      0.000000   \n",
       "75%       233.000000    233.000000      2.000000     14.500000      0.500000   \n",
       "max       265.000000    265.000000      4.000000    999.990000      4.500000   \n",
       "\n",
       "             mta_tax    tip_amount  tolls_amount  improvement_surcharge  \\\n",
       "count   22699.000000  22699.000000  22699.000000           22699.000000   \n",
       "unique           NaN           NaN           NaN                    NaN   \n",
       "top              NaN           NaN           NaN                    NaN   \n",
       "freq             NaN           NaN           NaN                    NaN   \n",
       "mean        0.497445      1.835781      0.312542               0.299551   \n",
       "std         0.039465      2.800626      1.399212               0.015673   \n",
       "min        -0.500000      0.000000      0.000000              -0.300000   \n",
       "25%         0.500000      0.000000      0.000000               0.300000   \n",
       "50%         0.500000      1.350000      0.000000               0.300000   \n",
       "75%         0.500000      2.450000      0.000000               0.300000   \n",
       "max         0.500000    200.000000     19.100000               0.300000   \n",
       "\n",
       "        total_amount  \n",
       "count   22699.000000  \n",
       "unique           NaN  \n",
       "top              NaN  \n",
       "freq             NaN  \n",
       "mean       16.310502  \n",
       "std        16.097295  \n",
       "min      -120.300000  \n",
       "25%         8.750000  \n",
       "50%        11.800000  \n",
       "75%        17.800000  \n",
       "max      1200.290000  "
      ]
     },
     "execution_count": 3,
     "metadata": {},
     "output_type": "execute_result"
    }
   ],
   "source": [
    "#  descriptive stats code for EDA\n",
    "df.describe(include='all')"
   ]
  },
  {
   "cell_type": "markdown",
   "id": "2203fc52",
   "metadata": {
    "papermill": {
     "duration": 0.006577,
     "end_time": "2023-08-29T17:46:06.619635",
     "exception": false,
     "start_time": "2023-08-29T17:46:06.613058",
     "status": "completed"
    },
    "tags": []
   },
   "source": [
    "We are interested in the relationship between payment type and the fare amount the customer pays. One approach is to look at the average fare amount for each payment type. "
   ]
  },
  {
   "cell_type": "code",
   "execution_count": 4,
   "id": "bb100a6d",
   "metadata": {
    "_kg_hide-output": true,
    "execution": {
     "iopub.execute_input": "2023-08-29T17:46:06.636043Z",
     "iopub.status.busy": "2023-08-29T17:46:06.635047Z",
     "iopub.status.idle": "2023-08-29T17:46:06.655144Z",
     "shell.execute_reply": "2023-08-29T17:46:06.653524Z"
    },
    "papermill": {
     "duration": 0.031736,
     "end_time": "2023-08-29T17:46:06.658286",
     "exception": false,
     "start_time": "2023-08-29T17:46:06.626550",
     "status": "completed"
    },
    "tags": []
   },
   "outputs": [
    {
     "data": {
      "text/plain": [
       "payment_type\n",
       "1    13.429748\n",
       "2    12.213546\n",
       "3    12.186116\n",
       "4     9.913043\n",
       "Name: fare_amount, dtype: float64"
      ]
     },
     "execution_count": 4,
     "metadata": {},
     "output_type": "execute_result"
    }
   ],
   "source": [
    "df.groupby('payment_type')['fare_amount'].mean()"
   ]
  },
  {
   "cell_type": "markdown",
   "id": "6cafa504",
   "metadata": {
    "papermill": {
     "duration": 0.006704,
     "end_time": "2023-08-29T17:46:06.673857",
     "exception": false,
     "start_time": "2023-08-29T17:46:06.667153",
     "status": "completed"
    },
    "tags": []
   },
   "source": [
    ">Based on the averages, it appears that customers who pay in credit card tend to pay a larger fare amount than customers who pay in cash.\n",
    "\n",
    "\n",
    "However, this difference might arise from random sampling, rather than being a true difference in fare amount. To assess whether the difference is statistically significant, conduct a hypothesis test."
   ]
  },
  {
   "cell_type": "markdown",
   "id": "1fd865b8",
   "metadata": {
    "papermill": {
     "duration": 0.006522,
     "end_time": "2023-08-29T17:46:06.687376",
     "exception": false,
     "start_time": "2023-08-29T17:46:06.680854",
     "status": "completed"
    },
    "tags": []
   },
   "source": [
    "# Hypothesis testing"
   ]
  },
  {
   "cell_type": "markdown",
   "id": "95390a0a",
   "metadata": {
    "papermill": {
     "duration": 0.006448,
     "end_time": "2023-08-29T17:46:06.700822",
     "exception": false,
     "start_time": "2023-08-29T17:46:06.694374",
     "status": "completed"
    },
    "tags": []
   },
   "source": [
    "**Null hypothesis**: There is no difference in average fare between customers who use credit cards and customers who use cash. \n",
    "\n",
    "**Alternative hypothesis**: There is a difference in average fare between customers who use credit cards and customers who use cash"
   ]
  },
  {
   "cell_type": "markdown",
   "id": "25fbbdb4",
   "metadata": {
    "papermill": {
     "duration": 0.006535,
     "end_time": "2023-08-29T17:46:06.714260",
     "exception": false,
     "start_time": "2023-08-29T17:46:06.707725",
     "status": "completed"
    },
    "tags": []
   },
   "source": [
    "Our goal in this step is to conduct a two-sample t-test.\n",
    "\n",
    "Steps for conducting a hypothesis test: \n",
    "1.   State the null hypothesis and the alternative hypothesis\n",
    "2.   Choose a signficance level\n",
    "3.   Find the p-value\n",
    "4.   Reject or fail to reject the null hypothesis \n"
   ]
  },
  {
   "cell_type": "markdown",
   "id": "be08c0b5",
   "metadata": {
    "papermill": {
     "duration": 0.00678,
     "end_time": "2023-08-29T17:46:06.728000",
     "exception": false,
     "start_time": "2023-08-29T17:46:06.721220",
     "status": "completed"
    },
    "tags": []
   },
   "source": [
    "**Note:** For the purpose of this exercise, hypothesis test is the main component of our A/B test. "
   ]
  },
  {
   "cell_type": "markdown",
   "id": "ec22d19f",
   "metadata": {
    "papermill": {
     "duration": 0.006637,
     "end_time": "2023-08-29T17:46:06.741652",
     "exception": false,
     "start_time": "2023-08-29T17:46:06.735015",
     "status": "completed"
    },
    "tags": []
   },
   "source": [
    "$H_0$: There is no difference in the average fare amount between customers who use credit cards and customers who use cash.\n",
    "\n",
    "$H_A$: There is a difference in the average fare amount between customers who use credit cards and customers who use cash.\n",
    "\n",
    "Significance level: 5%"
   ]
  },
  {
   "cell_type": "code",
   "execution_count": 5,
   "id": "30667bb7",
   "metadata": {
    "execution": {
     "iopub.execute_input": "2023-08-29T17:46:06.759509Z",
     "iopub.status.busy": "2023-08-29T17:46:06.758945Z",
     "iopub.status.idle": "2023-08-29T17:46:06.777388Z",
     "shell.execute_reply": "2023-08-29T17:46:06.775837Z"
    },
    "papermill": {
     "duration": 0.03097,
     "end_time": "2023-08-29T17:46:06.780290",
     "exception": false,
     "start_time": "2023-08-29T17:46:06.749320",
     "status": "completed"
    },
    "tags": []
   },
   "outputs": [
    {
     "data": {
      "text/plain": [
       "Ttest_indResult(statistic=6.866800855655372, pvalue=6.797387473030518e-12)"
      ]
     },
     "execution_count": 5,
     "metadata": {},
     "output_type": "execute_result"
    }
   ],
   "source": [
    "#hypothesis test, A/B test\n",
    "\n",
    "credit_card = df[df['payment_type'] == 1]['fare_amount']\n",
    "cash = df[df['payment_type'] == 2]['fare_amount']\n",
    "stats.ttest_ind(a=credit_card, b=cash, equal_var=False)"
   ]
  },
  {
   "cell_type": "markdown",
   "id": "b7ed5b99",
   "metadata": {
    "papermill": {
     "duration": 0.007243,
     "end_time": "2023-08-29T17:46:06.795178",
     "exception": false,
     "start_time": "2023-08-29T17:46:06.787935",
     "status": "completed"
    },
    "tags": []
   },
   "source": [
    "Since the p-value is significantly smaller than the significance level of 5%, you reject the null hypothesis. \n",
    "\n",
    "*Notice the 'e-12' at the end of the pvalue result.*\n",
    "\n",
    "There is a statistically significant difference in the average fare amount between customers who use credit cards and customers who use cash."
   ]
  },
  {
   "cell_type": "markdown",
   "id": "3deefa05",
   "metadata": {
    "papermill": {
     "duration": 0.006842,
     "end_time": "2023-08-29T17:46:06.809335",
     "exception": false,
     "start_time": "2023-08-29T17:46:06.802493",
     "status": "completed"
    },
    "tags": []
   },
   "source": [
    "# A/B test results\n",
    "There is a statistically significant difference in the average total fare between customers who use credit cards and\n",
    "customers who use cash. Customers who used credit cards showed a higher total amount compared to cash."
   ]
  },
  {
   "cell_type": "markdown",
   "id": "24ba032e",
   "metadata": {
    "papermill": {
     "duration": 0.006792,
     "end_time": "2023-08-29T17:46:06.823339",
     "exception": false,
     "start_time": "2023-08-29T17:46:06.816547",
     "status": "completed"
    },
    "tags": []
   },
   "source": [
    "# Next Steps\n",
    "\n",
    "New York City TLC can encourage customers to pay with credit cards, and create strategies to promote credit card payments. \n",
    "\n",
    "For example, the New York City TLC can install signs that read `Credit card payments are preferred` in their cabs, and implement a protocol that requires cab drivers to verbally inform customers that credit card payments are preferred."
   ]
  }
 ],
 "metadata": {
  "kernelspec": {
   "display_name": "Python 3",
   "language": "python",
   "name": "python3"
  },
  "language_info": {
   "codemirror_mode": {
    "name": "ipython",
    "version": 3
   },
   "file_extension": ".py",
   "mimetype": "text/x-python",
   "name": "python",
   "nbconvert_exporter": "python",
   "pygments_lexer": "ipython3",
   "version": "3.10.12"
  },
  "papermill": {
   "default_parameters": {},
   "duration": 16.380362,
   "end_time": "2023-08-29T17:46:08.057705",
   "environment_variables": {},
   "exception": null,
   "input_path": "__notebook__.ipynb",
   "output_path": "__notebook__.ipynb",
   "parameters": {},
   "start_time": "2023-08-29T17:45:51.677343",
   "version": "2.4.0"
  }
 },
 "nbformat": 4,
 "nbformat_minor": 5
}
